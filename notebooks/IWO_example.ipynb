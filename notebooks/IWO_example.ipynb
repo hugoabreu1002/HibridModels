{
 "cells": [
  {
   "cell_type": "code",
   "execution_count": 1,
   "metadata": {},
   "outputs": [],
   "source": [
    "import sys\n",
    "import numpy as np\n",
    "from numpy.random import choice\n",
    "import random\n",
    "import matplotlib.pyplot as plt\n",
    "import copy\n",
    "from tqdm import tqdm\n",
    "from IWO import IWO"
   ]
  },
  {
   "cell_type": "markdown",
   "metadata": {},
   "source": [
    "# RASTRIGIN"
   ]
  },
  {
   "cell_type": "code",
   "execution_count": 2,
   "metadata": {},
   "outputs": [],
   "source": [
    "def rastrigin(X, *args):\n",
    "    return sum(list(map(lambda x: x**2 - 10*np.cos(2*np.pi*x) + 10, list(X))))"
   ]
  },
  {
   "cell_type": "code",
   "execution_count": 3,
   "metadata": {},
   "outputs": [],
   "source": [
    "qt_iter = 1000\n",
    "xticks = np.arange(1, qt_iter+1,1)"
   ]
  },
  {
   "cell_type": "markdown",
   "metadata": {},
   "source": [
    "## Global - Inercia Fixo"
   ]
  },
  {
   "cell_type": "code",
   "execution_count": 5,
   "metadata": {},
   "outputs": [
    {
     "name": "stderr",
     "output_type": "stream",
     "text": [
      "  6%|██████▎                                                                                                      | 58/1000 [00:00<00:03, 254.20it/s]"
     ]
    },
    {
     "name": "stdout",
     "output_type": "stream",
     "text": [
      "######## iteracao 10 ##########\n",
      "Best Point [-0.08423012  0.2446943   0.03060887  1.10892727  0.95034929  0.1719659\n",
      "  0.35474764 -0.11470394 -0.15398453  0.16352468], Best Cost: 49.4244242324607\n",
      "######## iteracao 20 ##########\n",
      "Best Point [-0.02923216 -0.13203183  1.00427359  0.08734966  0.12638711  0.30012901\n",
      "  0.40730466 -0.04975419  1.13514552 -0.00927395], Best Cost: 45.821590006539104\n",
      "######## iteracao 30 ##########\n",
      "Best Point [ 0.00543892 -1.04376371 -1.1539182   0.77320751 -0.01991166  0.03972413\n",
      " -0.11908458 -0.14250907 -0.01568412  0.42660101], Best Cost: 42.300048503306115\n",
      "######## iteracao 40 ##########\n",
      "Best Point [ 0.00543892 -1.04376371 -1.1539182   0.77320751 -0.01991166  0.03972413\n",
      " -0.11908458 -0.14250907 -0.01568412  0.42660101], Best Cost: 42.300048503306115\n",
      "######## iteracao 50 ##########\n",
      "Best Point [ 0.00543892 -1.04376371 -1.1539182   0.77320751 -0.01991166  0.03972413\n",
      " -0.11908458 -0.14250907 -0.01568412  0.42660101], Best Cost: 42.300048503306115\n",
      "######## iteracao 60 ##########\n",
      "Best Point [-0.07423006  0.01614197  1.04559659 -0.08952038 -1.06293814  0.80432241\n",
      " -0.13072924  0.95094997  2.20160722 -0.16843198], Best Cost: 34.93437070500725\n",
      "######## iteracao 70 ##########\n",
      "Best Point [-0.0881303   0.0479541  -0.91704849  0.20556678  0.67229343 -0.06736884\n",
      " -0.02891987 -1.01076214  0.02234913  0.98922661], Best Cost: 29.75046892935869\n",
      "######## iteracao 80 ##########\n",
      "Best Point [-0.0881303   0.0479541  -0.91704849  0.20556678  0.67229343 -0.06736884\n",
      " -0.02891987 -1.01076214  0.02234913  0.98922661], Best Cost: 29.75046892935869\n",
      "######## iteracao 90 ##########"
     ]
    },
    {
     "name": "stderr",
     "output_type": "stream",
     "text": [
      " 13%|█████████████▋                                                                                              | 127/1000 [00:00<00:03, 289.93it/s]"
     ]
    },
    {
     "name": "stdout",
     "output_type": "stream",
     "text": [
      "\n",
      "Best Point [-0.0881303   0.0479541  -0.91704849  0.20556678  0.67229343 -0.06736884\n",
      " -0.02891987 -1.01076214  0.02234913  0.98922661], Best Cost: 29.75046892935869\n",
      "######## iteracao 100 ##########\n",
      "Best Point [-0.0881303   0.0479541  -0.91704849  0.20556678  0.67229343 -0.06736884\n",
      " -0.02891987 -1.01076214  0.02234913  0.98922661], Best Cost: 29.75046892935869\n",
      "######## iteracao 110 ##########\n",
      "Best Point [-0.0881303   0.0479541  -0.91704849  0.20556678  0.67229343 -0.06736884\n",
      " -0.02891987 -1.01076214  0.02234913  0.98922661], Best Cost: 29.75046892935869\n",
      "######## iteracao 120 ##########\n",
      "Best Point [-0.0881303   0.0479541  -0.91704849  0.20556678  0.67229343 -0.06736884\n",
      " -0.02891987 -1.01076214  0.02234913  0.98922661], Best Cost: 29.75046892935869\n",
      "######## iteracao 130 ##########\n",
      "Best Point [-0.0881303   0.0479541  -0.91704849  0.20556678  0.67229343 -0.06736884\n",
      " -0.02891987 -1.01076214  0.02234913  0.98922661], Best Cost: 29.75046892935869\n",
      "######## iteracao 140 ##########\n",
      "Best Point [-0.0881303   0.0479541  -0.91704849  0.20556678  0.67229343 -0.06736884\n",
      " -0.02891987 -1.01076214  0.02234913  0.98922661], Best Cost: 29.75046892935869\n",
      "######## iteracao 150 ##########\n",
      "Best Point [-0.0881303   0.0479541  -0.91704849  0.20556678  0.67229343 -0.06736884\n",
      " -0.02891987 -1.01076214  0.02234913  0.98922661], Best Cost: 29.75046892935869\n"
     ]
    },
    {
     "name": "stderr",
     "output_type": "stream",
     "text": [
      " 22%|███████████████████████▉                                                                                    | 222/1000 [00:00<00:02, 295.66it/s]"
     ]
    },
    {
     "name": "stdout",
     "output_type": "stream",
     "text": [
      "######## iteracao 160 ##########\n",
      "Best Point [-0.0881303   0.0479541  -0.91704849  0.20556678  0.67229343 -0.06736884\n",
      " -0.02891987 -1.01076214  0.02234913  0.98922661], Best Cost: 29.75046892935869\n",
      "######## iteracao 170 ##########\n",
      "Best Point [-0.0881303   0.0479541  -0.91704849  0.20556678  0.67229343 -0.06736884\n",
      " -0.02891987 -1.01076214  0.02234913  0.98922661], Best Cost: 29.75046892935869\n",
      "######## iteracao 180 ##########\n",
      "Best Point [-0.0881303   0.0479541  -0.91704849  0.20556678  0.67229343 -0.06736884\n",
      " -0.02891987 -1.01076214  0.02234913  0.98922661], Best Cost: 29.75046892935869\n",
      "######## iteracao 190 ##########\n",
      "Best Point [-0.0881303   0.0479541  -0.91704849  0.20556678  0.67229343 -0.06736884\n",
      " -0.02891987 -1.01076214  0.02234913  0.98922661], Best Cost: 29.75046892935869\n",
      "######## iteracao 200 ##########\n",
      "Best Point [-0.0881303   0.0479541  -0.91704849  0.20556678  0.67229343 -0.06736884\n",
      " -0.02891987 -1.01076214  0.02234913  0.98922661], Best Cost: 29.75046892935869\n",
      "######## iteracao 210 ##########\n",
      "Best Point [ 0.06442545 -0.16703796  1.03331585  0.07499069 -0.00455229  1.08714013\n",
      " -0.12980999 -0.09553739  0.89072443 -0.23174616], Best Cost: 27.778216058612337\n",
      "######## iteracao 220 ##########\n",
      "Best Point [ 0.06442545 -0.16703796  1.03331585  0.07499069 -0.00455229  1.08714013\n",
      " -0.12980999 -0.09553739  0.89072443 -0.23174616], Best Cost: 27.778216058612337\n"
     ]
    },
    {
     "name": "stderr",
     "output_type": "stream",
     "text": [
      " 28%|██████████████████████████████▎                                                                             | 281/1000 [00:00<00:02, 282.77it/s]"
     ]
    },
    {
     "name": "stdout",
     "output_type": "stream",
     "text": [
      "######## iteracao 230 ##########\n",
      "Best Point [ 0.06442545 -0.16703796  1.03331585  0.07499069 -0.00455229  1.08714013\n",
      " -0.12980999 -0.09553739  0.89072443 -0.23174616], Best Cost: 27.778216058612337\n",
      "######## iteracao 240 ##########\n",
      "Best Point [ 0.06442545 -0.16703796  1.03331585  0.07499069 -0.00455229  1.08714013\n",
      " -0.12980999 -0.09553739  0.89072443 -0.23174616], Best Cost: 27.778216058612337\n",
      "######## iteracao 250 ##########\n",
      "Best Point [ 0.06442545 -0.16703796  1.03331585  0.07499069 -0.00455229  1.08714013\n",
      " -0.12980999 -0.09553739  0.89072443 -0.23174616], Best Cost: 27.778216058612337\n",
      "######## iteracao 260 ##########\n",
      "Best Point [ 0.06442545 -0.16703796  1.03331585  0.07499069 -0.00455229  1.08714013\n",
      " -0.12980999 -0.09553739  0.89072443 -0.23174616], Best Cost: 27.778216058612337\n",
      "######## iteracao 270 ##########\n",
      "Best Point [-3.66167727e-02  5.30377733e-02 -9.75388674e-01 -2.50618470e-02\n",
      "  2.02582768e+00  6.85775181e-04  1.76754766e-01 -1.02078264e+00\n",
      "  1.04965236e-01  1.08309493e+00], Best Cost: 17.578785529131714\n",
      "######## iteracao 280 ##########\n",
      "Best Point [-3.66167727e-02  5.30377733e-02 -9.75388674e-01 -2.50618470e-02\n",
      "  2.02582768e+00  6.85775181e-04  1.76754766e-01 -1.02078264e+00\n",
      "  1.04965236e-01  1.08309493e+00], Best Cost: 17.578785529131714\n",
      "######## iteracao 290 ##########\n",
      "Best Point [-3.66167727e-02  5.30377733e-02 -9.75388674e-01 -2.50618470e-02\n",
      "  2.02582768e+00  6.85775181e-04  1.76754766e-01 -1.02078264e+00\n",
      "  1.04965236e-01  1.08309493e+00], Best Cost: 17.578785529131714\n",
      "######## iteracao 300 ##########\n",
      "Best Point [-3.66167727e-02  5.30377733e-02 -9.75388674e-01 -2.50618470e-02\n",
      "  2.02582768e+00  6.85775181e-04  1.76754766e-01 -1.02078264e+00\n",
      "  1.04965236e-01  1.08309493e+00], Best Cost: 17.578785529131714\n",
      "######## iteracao 310 ##########\n",
      "Best Point [-3.66167727e-02  5.30377733e-02 -9.75388674e-01 -2.50618470e-02\n",
      "  2.02582768e+00  6.85775181e-04  1.76754766e-01 -1.02078264e+00\n",
      "  1.04965236e-01  1.08309493e+00], Best Cost: 17.578785529131714\n",
      "######## iteracao 320 ##########"
     ]
    },
    {
     "name": "stderr",
     "output_type": "stream",
     "text": [
      " 37%|███████████████████████████████████████▋                                                                    | 368/1000 [00:01<00:01, 316.06it/s]"
     ]
    },
    {
     "name": "stdout",
     "output_type": "stream",
     "text": [
      "\n",
      "Best Point [-3.66167727e-02  5.30377733e-02 -9.75388674e-01 -2.50618470e-02\n",
      "  2.02582768e+00  6.85775181e-04  1.76754766e-01 -1.02078264e+00\n",
      "  1.04965236e-01  1.08309493e+00], Best Cost: 17.578785529131714\n",
      "######## iteracao 330 ##########\n",
      "Best Point [-3.66167727e-02  5.30377733e-02 -9.75388674e-01 -2.50618470e-02\n",
      "  2.02582768e+00  6.85775181e-04  1.76754766e-01 -1.02078264e+00\n",
      "  1.04965236e-01  1.08309493e+00], Best Cost: 17.578785529131714\n",
      "######## iteracao 340 ##########\n",
      "Best Point [-3.66167727e-02  5.30377733e-02 -9.75388674e-01 -2.50618470e-02\n",
      "  2.02582768e+00  6.85775181e-04  1.76754766e-01 -1.02078264e+00\n",
      "  1.04965236e-01  1.08309493e+00], Best Cost: 17.578785529131714\n",
      "######## iteracao 350 ##########\n",
      "Best Point [-3.66167727e-02  5.30377733e-02 -9.75388674e-01 -2.50618470e-02\n",
      "  2.02582768e+00  6.85775181e-04  1.76754766e-01 -1.02078264e+00\n",
      "  1.04965236e-01  1.08309493e+00], Best Cost: 17.578785529131714\n",
      "######## iteracao 360 ##########\n",
      "Best Point [-3.66167727e-02  5.30377733e-02 -9.75388674e-01 -2.50618470e-02\n",
      "  2.02582768e+00  6.85775181e-04  1.76754766e-01 -1.02078264e+00\n",
      "  1.04965236e-01  1.08309493e+00], Best Cost: 17.578785529131714\n",
      "######## iteracao 370 ##########\n",
      "Best Point [-3.66167727e-02  5.30377733e-02 -9.75388674e-01 -2.50618470e-02\n",
      "  2.02582768e+00  6.85775181e-04  1.76754766e-01 -1.02078264e+00\n",
      "  1.04965236e-01  1.08309493e+00], Best Cost: 17.578785529131714\n",
      "######## iteracao 380 ##########\n",
      "Best Point [-3.66167727e-02  5.30377733e-02 -9.75388674e-01 -2.50618470e-02\n",
      "  2.02582768e+00  6.85775181e-04  1.76754766e-01 -1.02078264e+00\n",
      "  1.04965236e-01  1.08309493e+00], Best Cost: 17.578785529131714\n",
      "######## iteracao 390 ##########"
     ]
    },
    {
     "name": "stderr",
     "output_type": "stream",
     "text": [
      " 44%|███████████████████████████████████████████████▋                                                            | 441/1000 [00:01<00:01, 330.64it/s]"
     ]
    },
    {
     "name": "stdout",
     "output_type": "stream",
     "text": [
      "\n",
      "Best Point [-9.74315698e-02  2.52304058e-02 -1.07630941e+00 -1.11568811e-01\n",
      "  1.96914339e+00 -4.99573383e-02 -6.26015852e-03 -9.61093899e-01\n",
      " -1.37195687e-03  9.96959088e-01], Best Cost: 13.388990661829707\n",
      "######## iteracao 400 ##########\n",
      "Best Point [-9.74315698e-02  2.52304058e-02 -1.07630941e+00 -1.11568811e-01\n",
      "  1.96914339e+00 -4.99573383e-02 -6.26015852e-03 -9.61093899e-01\n",
      " -1.37195687e-03  9.96959088e-01], Best Cost: 13.388990661829707\n",
      "######## iteracao 410 ##########\n",
      "Best Point [-9.74315698e-02  2.52304058e-02 -1.07630941e+00 -1.11568811e-01\n",
      "  1.96914339e+00 -4.99573383e-02 -6.26015852e-03 -9.61093899e-01\n",
      " -1.37195687e-03  9.96959088e-01], Best Cost: 13.388990661829707\n",
      "######## iteracao 420 ##########\n",
      "Best Point [-9.74315698e-02  2.52304058e-02 -1.07630941e+00 -1.11568811e-01\n",
      "  1.96914339e+00 -4.99573383e-02 -6.26015852e-03 -9.61093899e-01\n",
      " -1.37195687e-03  9.96959088e-01], Best Cost: 13.388990661829707\n",
      "######## iteracao 430 ##########\n",
      "Best Point [-0.1004802   0.00643624  0.94844766 -1.09065377 -0.05790887  0.9723034\n",
      " -0.11208795 -0.00327011  1.03049373 -0.04788095], Best Cost: 11.978429651557185\n",
      "######## iteracao 440 ##########\n",
      "Best Point [-0.1004802   0.00643624  0.94844766 -1.09065377 -0.05790887  0.9723034\n",
      " -0.11208795 -0.00327011  1.03049373 -0.04788095], Best Cost: 11.978429651557185\n",
      "######## iteracao 450 ##########\n",
      "Best Point [-0.1004802   0.00643624  0.94844766 -1.09065377 -0.05790887  0.9723034\n",
      " -0.11208795 -0.00327011  1.03049373 -0.04788095], Best Cost: 11.978429651557185\n",
      "######## iteracao 460 ##########\n",
      "Best Point [-0.1004802   0.00643624  0.94844766 -1.09065377 -0.05790887  0.9723034\n",
      " -0.11208795 -0.00327011  1.03049373 -0.04788095], Best Cost: 11.978429651557185\n",
      "######## iteracao 470 ##########"
     ]
    },
    {
     "name": "stderr",
     "output_type": "stream",
     "text": [
      " 55%|███████████████████████████████████████████████████████████▌                                                | 551/1000 [00:01<00:01, 347.69it/s]"
     ]
    },
    {
     "name": "stdout",
     "output_type": "stream",
     "text": [
      "\n",
      "Best Point [-0.03819661 -0.08758546  1.05398063 -1.06164968 -0.03412186  1.02681408\n",
      "  0.01575798 -0.02911008  0.95795173  0.08196507], Best Cost: 9.532068457839687\n",
      "######## iteracao 480 ##########\n",
      "Best Point [-0.03819661 -0.08758546  1.05398063 -1.06164968 -0.03412186  1.02681408\n",
      "  0.01575798 -0.02911008  0.95795173  0.08196507], Best Cost: 9.532068457839687\n",
      "######## iteracao 490 ##########\n",
      "Best Point [-0.03819661 -0.08758546  1.05398063 -1.06164968 -0.03412186  1.02681408\n",
      "  0.01575798 -0.02911008  0.95795173  0.08196507], Best Cost: 9.532068457839687\n",
      "######## iteracao 500 ##########\n",
      "Best Point [-0.03819661 -0.08758546  1.05398063 -1.06164968 -0.03412186  1.02681408\n",
      "  0.01575798 -0.02911008  0.95795173  0.08196507], Best Cost: 9.532068457839687\n",
      "######## iteracao 510 ##########\n",
      "Best Point [-0.03819661 -0.08758546  1.05398063 -1.06164968 -0.03412186  1.02681408\n",
      "  0.01575798 -0.02911008  0.95795173  0.08196507], Best Cost: 9.532068457839687\n",
      "######## iteracao 520 ##########\n",
      "Best Point [-0.03819661 -0.08758546  1.05398063 -1.06164968 -0.03412186  1.02681408\n",
      "  0.01575798 -0.02911008  0.95795173  0.08196507], Best Cost: 9.532068457839687\n",
      "######## iteracao 530 ##########\n",
      "Best Point [-0.04282845 -0.09496483  1.01677016 -1.02620457 -0.01369341  1.0118824\n",
      " -0.01655908 -0.0289026   1.00444833 -0.02298362], Best Cost: 6.802325286128882\n",
      "######## iteracao 540 ##########\n",
      "Best Point [-0.04282845 -0.09496483  1.01677016 -1.02620457 -0.01369341  1.0118824\n",
      " -0.01655908 -0.0289026   1.00444833 -0.02298362], Best Cost: 6.802325286128882\n",
      "######## iteracao 550 ##########\n",
      "Best Point [-0.04282845 -0.09496483  1.01677016 -1.02620457 -0.01369341  1.0118824\n",
      " -0.01655908 -0.0289026   1.00444833 -0.02298362], Best Cost: 6.802325286128882\n"
     ]
    },
    {
     "name": "stderr",
     "output_type": "stream",
     "text": [
      " 63%|███████████████████████████████████████████████████████████████████▋                                        | 627/1000 [00:01<00:01, 343.18it/s]"
     ]
    },
    {
     "name": "stdout",
     "output_type": "stream",
     "text": [
      "######## iteracao 560 ##########\n",
      "Best Point [-0.04282845 -0.09496483  1.01677016 -1.02620457 -0.01369341  1.0118824\n",
      " -0.01655908 -0.0289026   1.00444833 -0.02298362], Best Cost: 6.802325286128882\n",
      "######## iteracao 570 ##########\n",
      "Best Point [-0.04282845 -0.09496483  1.01677016 -1.02620457 -0.01369341  1.0118824\n",
      " -0.01655908 -0.0289026   1.00444833 -0.02298362], Best Cost: 6.802325286128882\n",
      "######## iteracao 580 ##########\n",
      "Best Point [-0.04282845 -0.09496483  1.01677016 -1.02620457 -0.01369341  1.0118824\n",
      " -0.01655908 -0.0289026   1.00444833 -0.02298362], Best Cost: 6.802325286128882\n",
      "######## iteracao 590 ##########\n",
      "Best Point [-0.01560844  0.07659426  1.01552887 -0.99292473 -0.04312855  0.94957889\n",
      "  0.00633477 -0.00642118  1.00736769  0.04914911], Best Cost: 6.547893265846769\n",
      "######## iteracao 600 ##########\n",
      "Best Point [-0.01560844  0.07659426  1.01552887 -0.99292473 -0.04312855  0.94957889\n",
      "  0.00633477 -0.00642118  1.00736769  0.04914911], Best Cost: 6.547893265846769\n",
      "######## iteracao 610 ##########\n",
      "Best Point [ 0.02407338 -0.00172254  0.98588637 -0.96982655 -0.01046577  0.98146965\n",
      " -0.00984812  0.05961114  1.03552596  0.07586805], Best Cost: 6.456107180722158\n",
      "######## iteracao 620 ##########\n",
      "Best Point [ 0.02407338 -0.00172254  0.98588637 -0.96982655 -0.01046577  0.98146965\n",
      " -0.00984812  0.05961114  1.03552596  0.07586805], Best Cost: 6.456107180722158\n",
      "######## iteracao 630 ##########\n",
      "Best Point [ 0.04485676 -0.00849197  1.01718649 -0.99077103 -0.0294528   0.96903514\n",
      "  0.02895468  0.02301079  0.98557305  0.05694965], Best Cost: 5.721314088319975\n",
      "######## iteracao 640 ##########\n",
      "Best Point [ 0.04485676 -0.00849197  1.01718649 -0.99077103 -0.0294528   0.96903514\n",
      "  0.02895468  0.02301079  0.98557305  0.05694965], Best Cost: 5.721314088319975\n",
      "######## iteracao 650 ##########\n",
      "Best Point [ 0.04485676 -0.00849197  1.01718649 -0.99077103 -0.0294528   0.96903514\n",
      "  0.02895468  0.02301079  0.98557305  0.05694965], Best Cost: 5.721314088319975\n"
     ]
    },
    {
     "name": "stderr",
     "output_type": "stream",
     "text": [
      " 70%|███████████████████████████████████████████████████████████████████████████▎                                | 697/1000 [00:02<00:00, 322.74it/s]"
     ]
    },
    {
     "name": "stdout",
     "output_type": "stream",
     "text": [
      "######## iteracao 660 ##########\n",
      "Best Point [ 0.04485676 -0.00849197  1.01718649 -0.99077103 -0.0294528   0.96903514\n",
      "  0.02895468  0.02301079  0.98557305  0.05694965], Best Cost: 5.721314088319975\n",
      "######## iteracao 670 ##########\n",
      "Best Point [ 0.02076575 -0.0683963   0.97828806 -0.99653253  0.0108413   0.98080756\n",
      "  0.00473153  0.03402153  0.97011204 -0.02685985], Best Cost: 5.595638430761163\n",
      "######## iteracao 680 ##########\n",
      "Best Point [ 0.02841179 -0.01448527  0.99514356 -0.99570922  0.02393526  1.01057602\n",
      "  0.0386191  -0.02074395  0.93524219 -0.01279102], Best Cost: 5.451378071130714\n",
      "######## iteracao 690 ##########\n",
      "Best Point [ 0.01280596 -0.01445623  1.01885072 -0.965192   -0.00359648  1.026738\n",
      " -0.03318083 -0.01457956  1.00135011  0.0297836 ], Best Cost: 4.987732561157985\n",
      "######## iteracao 700 ##########\n",
      "Best Point [-2.68921135e-02 -1.08496770e-04  1.01919594e+00 -9.99680654e-01\n",
      "  1.02868915e-03  9.80797027e-01 -1.32764330e-02  2.09902493e-02\n",
      "  9.81844625e-01  4.67797310e-02], Best Cost: 4.871094816993459\n",
      "######## iteracao 710 ##########\n",
      "Best Point [-2.68921135e-02 -1.08496770e-04  1.01919594e+00 -9.99680654e-01\n",
      "  1.02868915e-03  9.80797027e-01 -1.32764330e-02  2.09902493e-02\n",
      "  9.81844625e-01  4.67797310e-02], Best Cost: 4.871094816993459\n",
      "######## iteracao 720 ##########"
     ]
    },
    {
     "name": "stderr",
     "output_type": "stream",
     "text": [
      " 76%|██████████████████████████████████████████████████████████████████████████████████▍                         | 763/1000 [00:02<00:00, 325.92it/s]"
     ]
    },
    {
     "name": "stdout",
     "output_type": "stream",
     "text": [
      "\n",
      "Best Point [-2.68921135e-02 -1.08496770e-04  1.01919594e+00 -9.99680654e-01\n",
      "  1.02868915e-03  9.80797027e-01 -1.32764330e-02  2.09902493e-02\n",
      "  9.81844625e-01  4.67797310e-02], Best Cost: 4.871094816993459\n",
      "######## iteracao 730 ##########\n",
      "Best Point [ 0.02472636  0.01386033  0.97652704 -0.97957185  0.02561965  1.01066665\n",
      "  0.01938866 -0.00280951  0.97767817  0.02115226], Best Cost: 4.655701359808273\n",
      "######## iteracao 740 ##########\n",
      "Best Point [ 0.00719719  0.00651914  1.01022809 -0.96693268  0.00695894  0.96836264\n",
      " -0.03531871  0.00553372  0.98979266 -0.0041676 ], Best Cost: 4.610423513682269\n",
      "######## iteracao 750 ##########\n",
      "Best Point [-0.00797961  0.01178981  1.01064704 -0.98265895 -0.00352675  1.00627188\n",
      " -0.01506982 -0.00146056  0.97113958 -0.00849634], Best Cost: 4.298538699232786\n",
      "######## iteracao 760 ##########\n",
      "Best Point [-0.00797961  0.01178981  1.01064704 -0.98265895 -0.00352675  1.00627188\n",
      " -0.01506982 -0.00146056  0.97113958 -0.00849634], Best Cost: 4.298538699232786\n",
      "######## iteracao 770 ##########\n",
      "Best Point [-0.0121134  -0.00105368  0.98961953 -1.00211415  0.00847989  0.9901733\n",
      " -0.01619047 -0.02249771  0.98396703 -0.01195224], Best Cost: 4.248228950627839\n",
      "######## iteracao 780 ##########\n",
      "Best Point [-0.0121134  -0.00105368  0.98961953 -1.00211415  0.00847989  0.9901733\n",
      " -0.01619047 -0.02249771  0.98396703 -0.01195224], Best Cost: 4.248228950627839\n"
     ]
    },
    {
     "name": "stderr",
     "output_type": "stream",
     "text": [
      " 84%|██████████████████████████████████████████████████████████████████████████████████████████▌                 | 838/1000 [00:02<00:00, 326.72it/s]"
     ]
    },
    {
     "name": "stdout",
     "output_type": "stream",
     "text": [
      "######## iteracao 790 ##########\n",
      "Best Point [-0.01175827 -0.00163355  1.00548078 -1.01960505 -0.00565118  0.97970872\n",
      " -0.0099974  -0.00116337  0.9929066  -0.00729845], Best Cost: 4.234012903447413\n",
      "######## iteracao 800 ##########\n",
      "Best Point [ 0.00352721 -0.00619952  0.99504259 -1.00211288 -0.01135749  1.00331566\n",
      "  0.01073063  0.0069168   1.01113728 -0.01497096], Best Cost: 4.168188086702127\n",
      "######## iteracao 810 ##########\n",
      "Best Point [ 8.16332038e-03 -2.83117007e-03  9.84568861e-01 -9.95508267e-01\n",
      " -9.40252906e-04  9.94785949e-01 -9.35250248e-03  7.78826137e-03\n",
      "  9.96770441e-01 -4.95499114e-03], Best Cost: 4.0511697741327914\n",
      "######## iteracao 820 ##########\n",
      "Best Point [ 8.16332038e-03 -2.83117007e-03  9.84568861e-01 -9.95508267e-01\n",
      " -9.40252906e-04  9.94785949e-01 -9.35250248e-03  7.78826137e-03\n",
      "  9.96770441e-01 -4.95499114e-03], Best Cost: 4.0511697741327914\n",
      "######## iteracao 830 ##########\n",
      "Best Point [ 8.16332038e-03 -2.83117007e-03  9.84568861e-01 -9.95508267e-01\n",
      " -9.40252906e-04  9.94785949e-01 -9.35250248e-03  7.78826137e-03\n",
      "  9.96770441e-01 -4.95499114e-03], Best Cost: 4.0511697741327914\n",
      "######## iteracao 840 ##########\n",
      "Best Point [ 8.16332038e-03 -2.83117007e-03  9.84568861e-01 -9.95508267e-01\n",
      " -9.40252906e-04  9.94785949e-01 -9.35250248e-03  7.78826137e-03\n",
      "  9.96770441e-01 -4.95499114e-03], Best Cost: 4.0511697741327914\n",
      "######## iteracao 850 ##########\n",
      "Best Point [ 8.16332038e-03 -2.83117007e-03  9.84568861e-01 -9.95508267e-01\n",
      " -9.40252906e-04  9.94785949e-01 -9.35250248e-03  7.78826137e-03\n",
      "  9.96770441e-01 -4.95499114e-03], Best Cost: 4.0511697741327914\n",
      "######## iteracao 860 ##########\n",
      "Best Point [-6.14537723e-03  1.15972624e-03  1.00022617e+00 -9.89526003e-01\n",
      "  9.03299620e-04  9.99424717e-01 -8.99630033e-03  6.81848578e-03\n",
      "  1.00218665e+00 -2.10763952e-03], Best Cost: 4.0395841254768765\n"
     ]
    },
    {
     "name": "stderr",
     "output_type": "stream",
     "text": [
      " 94%|█████████████████████████████████████████████████████████████████████████████████████████████████████▎      | 938/1000 [00:02<00:00, 305.41it/s]"
     ]
    },
    {
     "name": "stdout",
     "output_type": "stream",
     "text": [
      "######## iteracao 870 ##########\n",
      "Best Point [ 0.00247832 -0.0048722   0.99606252 -0.99048901 -0.00646527  0.99519441\n",
      " -0.00720443 -0.0015102   1.00156742  0.00857377], Best Cost: 4.032259536484272\n",
      "######## iteracao 880 ##########\n",
      "Best Point [ 5.22486204e-04  1.26223324e-03  9.97662574e-01 -9.83894467e-01\n",
      " -3.64274951e-04  9.90159185e-01 -5.02961246e-03 -1.88515888e-03\n",
      "  9.94038403e-01 -2.82282173e-03], Best Cost: 4.017967470953822\n",
      "######## iteracao 890 ##########\n",
      "Best Point [-0.00111314 -0.00219027  0.99487301 -0.99785817  0.0016561   0.9943511\n",
      " -0.00434886 -0.0052175   1.00022683  0.00217299], Best Cost: 3.998913579725441\n",
      "######## iteracao 900 ##########\n",
      "Best Point [-0.00111314 -0.00219027  0.99487301 -0.99785817  0.0016561   0.9943511\n",
      " -0.00434886 -0.0052175   1.00022683  0.00217299], Best Cost: 3.998913579725441\n",
      "######## iteracao 910 ##########\n",
      "Best Point [-4.20742197e-03  1.73537433e-04  9.93507903e-01 -9.94806302e-01\n",
      "  2.76923069e-04  9.94747469e-01 -1.19189948e-03 -1.36901177e-03\n",
      "  1.00119283e+00  2.96020439e-04], Best Cost: 3.992179903905809\n",
      "######## iteracao 920 ##########\n",
      "Best Point [-0.00185732  0.00152592  0.99375202 -0.991481   -0.00102469  0.99484566\n",
      "  0.00237649 -0.00398836  0.99262674  0.00178181], Best Cost: 3.989863588836311\n",
      "######## iteracao 930 ##########\n",
      "Best Point [ 1.72827229e-04 -3.68510894e-04  9.97351273e-01 -9.92918188e-01\n",
      " -3.31235329e-03  9.96464281e-01  1.22005372e-03  1.58877482e-03\n",
      "  9.93777222e-01  1.91008932e-04], Best Cost: 3.985536133603375\n"
     ]
    },
    {
     "name": "stderr",
     "output_type": "stream",
     "text": [
      "100%|███████████████████████████████████████████████████████████████████████████████████████████████████████████| 1000/1000 [00:03<00:00, 321.89it/s]"
     ]
    },
    {
     "name": "stdout",
     "output_type": "stream",
     "text": [
      "######## iteracao 940 ##########\n",
      "Best Point [-4.94119835e-04  2.26956525e-03  9.94145002e-01 -9.92535736e-01\n",
      " -1.92118379e-03  9.96082341e-01  1.00629438e-03 -1.34946047e-03\n",
      "  9.95365057e-01 -7.90683495e-04], Best Cost: 3.9839032874446456\n",
      "######## iteracao 950 ##########\n",
      "Best Point [-4.41870810e-04  9.59550119e-04  9.97123484e-01 -9.94236818e-01\n",
      "  8.49839270e-04  9.96763262e-01  1.19567550e-03  8.16913539e-04\n",
      "  9.94660798e-01 -3.94477701e-04], Best Cost: 3.982343986429278\n",
      "######## iteracao 960 ##########\n",
      "Best Point [-9.34879791e-04  2.53231311e-04  9.94213013e-01 -9.94617140e-01\n",
      " -2.43110007e-04  9.96802073e-01 -1.39840521e-03 -4.88599246e-04\n",
      "  9.95236252e-01  6.75474068e-04], Best Cost: 3.981382480543811\n",
      "######## iteracao 970 ##########\n",
      "Best Point [-9.34879791e-04  2.53231311e-04  9.94213013e-01 -9.94617140e-01\n",
      " -2.43110007e-04  9.96802073e-01 -1.39840521e-03 -4.88599246e-04\n",
      "  9.95236252e-01  6.75474068e-04], Best Cost: 3.981382480543811\n",
      "######## iteracao 980 ##########\n",
      "Best Point [ 8.44937649e-04 -1.32523037e-03  9.95158426e-01 -9.95343327e-01\n",
      " -2.17996937e-06  9.94952164e-01 -3.03278099e-04 -6.64486356e-04\n",
      "  9.95365790e-01 -6.05288224e-04], Best Cost: 3.9805749589758026\n",
      "######## iteracao 990 ##########\n",
      "Best Point [ 5.45875894e-04  4.91213726e-04  9.95496397e-01 -9.95119685e-01\n",
      " -3.76357203e-04  9.95587707e-01  2.08525402e-04 -3.87306541e-04\n",
      "  9.94970125e-01 -4.35640923e-04], Best Cost: 3.9801883427785594\n",
      "\\IWO completed\n",
      "\n"
     ]
    },
    {
     "name": "stderr",
     "output_type": "stream",
     "text": [
      "\n"
     ]
    },
    {
     "data": {
      "image/png": "[encoded data removed]",
      "text/plain": [
       "<Figure size 3000x1800 with 1 Axes>"
      ]
     },
     "metadata": {
      "needs_background": "light"
     },
     "output_type": "display_data"
    }
   ],
   "source": [
    "myIWO = IWO(dim=10, minx=-5, maxx=12, function=rastrigin)\n",
    "myIWO = myIWO.search(weed_qtz=30, MaxIt=qt_iter, print_at_every = 10, Smin=0, Smax=5,\n",
    "                     Exponent = 2, sigma_initial = 0.5, sigma_final = 0.001)\n",
    "\n",
    "print(\"\\IWO completed\\n\")\n",
    "ras_hist_fit_t1 = myIWO.historic_best_error\n",
    "fig= plt.figure(figsize=(10,6), dpi=300)\n",
    "plt.plot(xticks, ras_hist_fit_t1, linewidth=2)\n",
    "plt.xlabel(\"Iteração\", fontsize=14)\n",
    "plt.ylabel(\"Valor objetivo\", fontsize=14)\n",
    "plt.grid()"
   ]
  },
  {
   "cell_type": "code",
   "execution_count": null,
   "metadata": {},
   "outputs": [],
   "source": []
  }
 ],
 "metadata": {
  "kernelspec": {
   "display_name": "Python 3",
   "language": "python",
   "name": "python3"
  },
  "language_info": {
   "codemirror_mode": {
    "name": "ipython",
    "version": 3
   },
   "file_extension": ".py",
   "mimetype": "text/x-python",
   "name": "python",
   "nbconvert_exporter": "python",
   "pygments_lexer": "ipython3",
   "version": "3.7.1"
  },
  "toc": {
   "base_numbering": 1,
   "nav_menu": {
    "height": "293px",
    "width": "370px"
   },
   "number_sections": true,
   "sideBar": true,
   "skip_h1_title": false,
   "title_cell": "Table of Contents",
   "title_sidebar": "Contents",
   "toc_cell": false,
   "toc_position": {},
   "toc_section_display": true,
   "toc_window_display": false
  }
 },
 "nbformat": 4,
 "nbformat_minor": 2
}
